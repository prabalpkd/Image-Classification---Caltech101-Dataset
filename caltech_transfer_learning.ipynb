{
 "cells": [
  {
   "cell_type": "code",
   "execution_count": 8,
   "id": "d1fcfe8b-33eb-47b0-990c-6ed0bb6438c5",
   "metadata": {},
   "outputs": [],
   "source": [
    "import torch\n",
    "import torch.nn as nn\n",
    "import torch.optim as optim\n",
    "from torchvision import datasets, models, transforms\n",
    "from torch.utils.data import DataLoader, random_split\n",
    "import torchvision\n",
    "import matplotlib.pyplot as plt\n",
    "import numpy as np"
   ]
  },
  {
   "cell_type": "markdown",
   "id": "c437580c-4528-4305-aa46-a71d42e9d867",
   "metadata": {},
   "source": [
    "### Loading Caltech101 Dataset"
   ]
  },
  {
   "cell_type": "code",
   "execution_count": 9,
   "id": "cca0d71a-a75a-4fc7-82e5-d54706d0dae8",
   "metadata": {},
   "outputs": [
    {
     "data": {
      "text/plain": [
       "9144"
      ]
     },
     "execution_count": 9,
     "metadata": {},
     "output_type": "execute_result"
    }
   ],
   "source": [
    "transform = transforms.Compose([\n",
    "    transforms.Resize((128,128)),\n",
    "    transforms.RandomHorizontalFlip(),\n",
    "    transforms.RandomRotation(10),\n",
    "    transforms.ToTensor(),\n",
    "    transforms.Normalize(mean=[0.5,0.5,0.5],std=[0.5,0.5,0.5])    \n",
    "])\n",
    "\n",
    "dataset = datasets.ImageFolder(root=\"./images\", transform= transform)\n",
    "len(dataset)"
   ]
  },
  {
   "cell_type": "code",
   "execution_count": 11,
   "id": "17b8c01d-6834-4a8f-90a4-98e0640a07f9",
   "metadata": {},
   "outputs": [
    {
     "data": {
      "text/plain": [
       "['BACKGROUND_Google',\n",
       " 'Faces',\n",
       " 'Faces_easy',\n",
       " 'Leopards',\n",
       " 'Motorbikes',\n",
       " 'accordion',\n",
       " 'airplanes',\n",
       " 'anchor',\n",
       " 'ant',\n",
       " 'barrel',\n",
       " 'bass',\n",
       " 'beaver',\n",
       " 'binocular',\n",
       " 'bonsai',\n",
       " 'brain',\n",
       " 'brontosaurus',\n",
       " 'buddha',\n",
       " 'butterfly',\n",
       " 'camera',\n",
       " 'cannon',\n",
       " 'car_side',\n",
       " 'ceiling_fan',\n",
       " 'cellphone',\n",
       " 'chair',\n",
       " 'chandelier',\n",
       " 'cougar_body',\n",
       " 'cougar_face',\n",
       " 'crab',\n",
       " 'crayfish',\n",
       " 'crocodile',\n",
       " 'crocodile_head',\n",
       " 'cup',\n",
       " 'dalmatian',\n",
       " 'dollar_bill',\n",
       " 'dolphin',\n",
       " 'dragonfly',\n",
       " 'electric_guitar',\n",
       " 'elephant',\n",
       " 'emu',\n",
       " 'euphonium',\n",
       " 'ewer',\n",
       " 'ferry',\n",
       " 'flamingo',\n",
       " 'flamingo_head',\n",
       " 'garfield',\n",
       " 'gerenuk',\n",
       " 'gramophone',\n",
       " 'grand_piano',\n",
       " 'hawksbill',\n",
       " 'headphone',\n",
       " 'hedgehog',\n",
       " 'helicopter',\n",
       " 'ibis',\n",
       " 'inline_skate',\n",
       " 'joshua_tree',\n",
       " 'kangaroo',\n",
       " 'ketch',\n",
       " 'lamp',\n",
       " 'laptop',\n",
       " 'llama',\n",
       " 'lobster',\n",
       " 'lotus',\n",
       " 'mandolin',\n",
       " 'mayfly',\n",
       " 'menorah',\n",
       " 'metronome',\n",
       " 'minaret',\n",
       " 'nautilus',\n",
       " 'octopus',\n",
       " 'okapi',\n",
       " 'pagoda',\n",
       " 'panda',\n",
       " 'pigeon',\n",
       " 'pizza',\n",
       " 'platypus',\n",
       " 'pyramid',\n",
       " 'revolver',\n",
       " 'rhino',\n",
       " 'rooster',\n",
       " 'saxophone',\n",
       " 'schooner',\n",
       " 'scissors',\n",
       " 'scorpion',\n",
       " 'sea_horse',\n",
       " 'snoopy',\n",
       " 'soccer_ball',\n",
       " 'stapler',\n",
       " 'starfish',\n",
       " 'stegosaurus',\n",
       " 'stop_sign',\n",
       " 'strawberry',\n",
       " 'sunflower',\n",
       " 'tick',\n",
       " 'trilobite',\n",
       " 'umbrella',\n",
       " 'watch',\n",
       " 'water_lilly',\n",
       " 'wheelchair',\n",
       " 'wild_cat',\n",
       " 'windsor_chair',\n",
       " 'wrench',\n",
       " 'yin_yang']"
      ]
     },
     "execution_count": 11,
     "metadata": {},
     "output_type": "execute_result"
    }
   ],
   "source": [
    "dataset.classes"
   ]
  },
  {
   "cell_type": "code",
   "execution_count": 12,
   "id": "29b04454-3ece-428c-b6cd-d10076f66b2d",
   "metadata": {},
   "outputs": [
    {
     "data": {
      "text/plain": [
       "(7315, 1829)"
      ]
     },
     "execution_count": 12,
     "metadata": {},
     "output_type": "execute_result"
    }
   ],
   "source": [
    "train_size = int(len(dataset)*0.8)\n",
    "test_size = len(dataset) - train_size\n",
    "\n",
    "train_dataset, test_dataset = random_split(dataset, [train_size, test_size])\n",
    "len(train_dataset), len(test_dataset)"
   ]
  },
  {
   "cell_type": "code",
   "execution_count": 14,
   "id": "b0004155-f356-44a6-b506-055b39758d2e",
   "metadata": {},
   "outputs": [],
   "source": [
    "# Creating data loaders\n",
    "train_loader = DataLoader(train_dataset, batch_size=32, shuffle=True)\n",
    "test_loader = DataLoader(test_dataset, batch_size=32, shuffle=False)"
   ]
  },
  {
   "cell_type": "code",
   "execution_count": 15,
   "id": "70b17827-6043-47c3-9ac1-4486344e9c0d",
   "metadata": {},
   "outputs": [
    {
     "name": "stdout",
     "output_type": "stream",
     "text": [
      "torch.Size([32, 3, 128, 128])\n",
      "torch.Size([32])\n"
     ]
    }
   ],
   "source": [
    "for i, (images, labels) in enumerate(train_loader):\n",
    "    print(images.shape)\n",
    "    print(labels.shape)\n",
    "    break"
   ]
  },
  {
   "cell_type": "code",
   "execution_count": 16,
   "id": "5e93ccc6-0950-4aab-8205-bd43f928c871",
   "metadata": {},
   "outputs": [
    {
     "data": {
      "image/png": "[encoded data removed]",
      "text/plain": [
       "<Figure size 640x480 with 1 Axes>"
      ]
     },
     "metadata": {},
     "output_type": "display_data"
    }
   ],
   "source": [
    "def imshow(img):\n",
    "    img = img / 2 + 0.5     # unnormalize\n",
    "    npimg = img.numpy()\n",
    "    plt.imshow(np.transpose(npimg, (1, 2, 0)))\n",
    "    plt.show()\n",
    "\n",
    "# showing images\n",
    "imshow(torchvision.utils.make_grid(images[:8]))"
   ]
  },
  {
   "cell_type": "code",
   "execution_count": 17,
   "id": "72d0681d-1dda-44cb-9205-9e29d8529390",
   "metadata": {},
   "outputs": [
    {
     "data": {
      "text/plain": [
       "tensor([24, 13, 86,  4,  0, 97, 95, 22])"
      ]
     },
     "execution_count": 17,
     "metadata": {},
     "output_type": "execute_result"
    }
   ],
   "source": [
    "labels[:8]"
   ]
  },
  {
   "cell_type": "code",
   "execution_count": 18,
   "id": "8afa0da1-a380-4ad8-88d9-821c6d95aa4f",
   "metadata": {},
   "outputs": [
    {
     "data": {
      "text/plain": [
       "['chandelier',\n",
       " 'bonsai',\n",
       " 'stapler',\n",
       " 'Motorbikes',\n",
       " 'BACKGROUND_Google',\n",
       " 'wheelchair',\n",
       " 'watch',\n",
       " 'cellphone']"
      ]
     },
     "execution_count": 18,
     "metadata": {},
     "output_type": "execute_result"
    }
   ],
   "source": [
    "[dataset.classes[i] for i in labels[:8]]"
   ]
  },
  {
   "cell_type": "code",
   "execution_count": 23,
   "id": "0ec07c85-895b-49e8-aa90-65bfc3163542",
   "metadata": {},
   "outputs": [],
   "source": [
    "class CNN(nn.Module):\n",
    "    def __init__(self, num_classes):\n",
    "        super().__init__()\n",
    "        self.network = nn.Sequential(\n",
    "            \n",
    "            nn.Conv2d(3, 32, kernel_size=(3,3), padding=\"same\"), # output==> (32, 128, 128)\n",
    "            nn.ReLU(), \n",
    "            nn.MaxPool2d(stride=(2,2), kernel_size=(2,2)), # output==> (32, 64, 64)\n",
    "            \n",
    "            nn.Conv2d(32, 64, kernel_size=(3,3), padding=\"same\"), # output==> (64, 64, 64)\n",
    "            nn.ReLU(), \n",
    "            nn.MaxPool2d(stride=(2,2), kernel_size=(2,2)),  # output==> (64, 32, 32)\n",
    "            \n",
    "            nn.Flatten(),\n",
    "            nn.Linear(64 * 32 * 32, 256), \n",
    "            nn.ReLU(),\n",
    "            nn.Linear(256, 128), \n",
    "            nn.ReLU(),            \n",
    "            nn.Linear(128, num_classes) \n",
    "        )\n",
    "    \n",
    "    def forward(self, x):\n",
    "        return self.network(x)"
   ]
  },
  {
   "cell_type": "code",
   "execution_count": 24,
   "id": "1937f7c6-5c9c-4737-a01d-40d045ce5736",
   "metadata": {},
   "outputs": [],
   "source": [
    "### Training Loop:\n",
    "\n",
    "def train_model(model, optimizer, criterion, train_loader, test_loader, num_epochs = 5):\n",
    "    for epoch in range(num_epochs):\n",
    "        model.train()\n",
    "        running_loss = 0\n",
    "        for images, labels in train_loader:\n",
    "            \n",
    "            optimizer.zero_grad()\n",
    "            outputs = model(images)\n",
    "            loss = criterion(outputs, labels)\n",
    "            loss.backward()\n",
    "            optimizer.step()\n",
    "\n",
    "            running_loss += loss.item()\n",
    "           \n",
    "        print(f\"Epochs [{epoch+1}/{num_epochs}], Loss :{running_loss/ len(train_loader):.4f}\")   "
   ]
  },
  {
   "cell_type": "code",
   "execution_count": 26,
   "id": "e52b63c2-d8f0-4560-93bb-48601330ab22",
   "metadata": {},
   "outputs": [
    {
     "data": {
      "text/plain": [
       "102"
      ]
     },
     "execution_count": 26,
     "metadata": {},
     "output_type": "execute_result"
    }
   ],
   "source": [
    "num_classes = len(dataset.classes)\n",
    "num_classes"
   ]
  },
  {
   "cell_type": "code",
   "execution_count": 27,
   "id": "22872739-6632-4bb8-8ae1-c3f16972fd80",
   "metadata": {},
   "outputs": [
    {
     "name": "stdout",
     "output_type": "stream",
     "text": [
      "Epochs [1/5], Loss :3.3860\n",
      "Epochs [2/5], Loss :2.5028\n",
      "Epochs [3/5], Loss :1.9835\n",
      "Epochs [4/5], Loss :1.6313\n",
      "Epochs [5/5], Loss :1.3414\n"
     ]
    }
   ],
   "source": [
    "model = CNN(num_classes)\n",
    "criterion = nn.CrossEntropyLoss()\n",
    "optimizer = optim.Adam(model.parameters(), lr = 0.001)\n",
    "\n",
    "train_model(model, optimizer, criterion, train_loader, test_loader, num_epochs=5)"
   ]
  },
  {
   "cell_type": "code",
   "execution_count": 29,
   "id": "6d020fa8-fc3c-4ef6-a748-8ee2ef2d44ed",
   "metadata": {},
   "outputs": [
    {
     "name": "stdout",
     "output_type": "stream",
     "text": [
      "Test Accuracy: 56.48%\n"
     ]
    }
   ],
   "source": [
    "def test_model(model, test_loader):\n",
    "    # Evaluation loop\n",
    "    model.eval()\n",
    "    correct = 0\n",
    "    total = 0\n",
    "    with torch.no_grad():\n",
    "        for images, labels in test_loader:\n",
    "            #images, labels = images.to(device), labels.to(device)\n",
    "            outputs = model(images)\n",
    "            _, predicted = torch.max(outputs, 1)\n",
    "            total += labels.size(0)\n",
    "            correct += (predicted == labels).sum().item()\n",
    "\n",
    "    print(f\"Test Accuracy: {100 * correct / total:.2f}%\")\n",
    "    \n",
    "test_model(model, test_loader) "
   ]
  },
  {
   "cell_type": "markdown",
   "id": "91b78e57-b2c2-4312-a590-b9f21897d60a",
   "metadata": {},
   "source": [
    "### Use Transfer Learning to Boost Performance"
   ]
  },
  {
   "cell_type": "markdown",
   "id": "34ce333c-8999-4166-b900-92399c62cd93",
   "metadata": {},
   "source": [
    "#### ResNet18"
   ]
  },
  {
   "cell_type": "code",
   "execution_count": 32,
   "id": "37cef3b9-b5e6-4c2f-8dd5-e84d26e32b0f",
   "metadata": {},
   "outputs": [],
   "source": [
    "from torchvision import models\n",
    "\n",
    "model = models.resnet18(weights=\"DEFAULT\")\n",
    "\n",
    "model.fc = nn.Linear(model.fc.in_features, num_classes)"
   ]
  },
  {
   "cell_type": "code",
   "execution_count": 33,
   "id": "a6a75a79-e580-473e-94bd-217f74b380db",
   "metadata": {},
   "outputs": [
    {
     "name": "stdout",
     "output_type": "stream",
     "text": [
      "Epochs [1/5], Loss :1.9213\n",
      "Epochs [2/5], Loss :1.0250\n",
      "Epochs [3/5], Loss :0.7158\n",
      "Epochs [4/5], Loss :0.5500\n",
      "Epochs [5/5], Loss :0.4313\n"
     ]
    }
   ],
   "source": [
    "#model = CNN(num_classes)\n",
    "criterion = nn.CrossEntropyLoss()\n",
    "optimizer = optim.Adam(model.parameters(), lr = 0.001)\n",
    "\n",
    "train_model(model, optimizer, criterion, train_loader, test_loader, num_epochs=5)"
   ]
  },
  {
   "cell_type": "code",
   "execution_count": 35,
   "id": "5f9937c5-37cd-4e9d-8083-ed194e538e52",
   "metadata": {},
   "outputs": [
    {
     "name": "stdout",
     "output_type": "stream",
     "text": [
      "Test Accuracy: 74.58%\n"
     ]
    }
   ],
   "source": [
    "test_model(model, test_loader)"
   ]
  },
  {
   "cell_type": "markdown",
   "id": "23c122cc-a3ca-4494-9275-07a19f8d5445",
   "metadata": {},
   "source": [
    "#### EfficientNet_B0"
   ]
  },
  {
   "cell_type": "code",
   "execution_count": 37,
   "id": "e2a24142-5ab3-4cb7-b191-792c0a70b50c",
   "metadata": {},
   "outputs": [
    {
     "name": "stdout",
     "output_type": "stream",
     "text": [
      "Epochs [1/5], Loss :1.4831\n",
      "Epochs [2/5], Loss :0.5453\n",
      "Epochs [3/5], Loss :0.3555\n",
      "Epochs [4/5], Loss :0.2870\n",
      "Epochs [5/5], Loss :0.2297\n",
      "Test Accuracy: 86.33%\n"
     ]
    }
   ],
   "source": [
    "model = models.efficientnet_b0(weights='DEFAULT')\n",
    "model.classifier[1] = nn.Linear(model.classifier[1].in_features, num_classes)\n",
    "#model = model.to(device)\n",
    "\n",
    "# Loss function and optimizer\n",
    "criterion = nn.CrossEntropyLoss()\n",
    "optimizer = optim.Adam(model.parameters(), lr=0.001)\n",
    "\n",
    "train_model(model, optimizer, criterion, train_loader, test_loader, num_epochs=5)   \n",
    "test_model(model, test_loader)"
   ]
  },
  {
   "cell_type": "code",
   "execution_count": null,
   "id": "b3cf9deb-6edd-4c41-902f-b1d7e3cab30b",
   "metadata": {},
   "outputs": [],
   "source": []
  },
  {
   "cell_type": "code",
   "execution_count": null,
   "id": "397ae109-1f90-46f0-a3c8-640f7ef838d5",
   "metadata": {},
   "outputs": [],
   "source": []
  }
 ],
 "metadata": {
  "kernelspec": {
   "display_name": "Python 3 (ipykernel)",
   "language": "python",
   "name": "python3"
  },
  "language_info": {
   "codemirror_mode": {
    "name": "ipython",
    "version": 3
   },
   "file_extension": ".py",
   "mimetype": "text/x-python",
   "name": "python",
   "nbconvert_exporter": "python",
   "pygments_lexer": "ipython3",
   "version": "3.13.5"
  }
 },
 "nbformat": 4,
 "nbformat_minor": 5
}
